{
 "cells": [
  {
   "cell_type": "code",
   "execution_count": 1,
   "id": "008985fb",
   "metadata": {},
   "outputs": [],
   "source": [
    "import numpy as np\n",
    "import pandas as pd\n",
    "import io\n",
    "import statsmodels.formula.api as smf"
   ]
  },
  {
   "cell_type": "markdown",
   "id": "77bcd8d7",
   "metadata": {},
   "source": [
    "# 1. Суммы квадратов, остатки, предсказанные значения, R2"
   ]
  },
  {
   "cell_type": "markdown",
   "id": "eb73fb74",
   "metadata": {},
   "source": [
    "# 1.1 Предсказанные и остатки"
   ]
  },
  {
   "cell_type": "markdown",
   "id": "e6adc2aa",
   "metadata": {},
   "source": [
    "## 1.1.1 Задача"
   ]
  },
  {
   "cell_type": "code",
   "execution_count": 4,
   "id": "d4a1fe92",
   "metadata": {},
   "outputs": [],
   "source": [
    "check = '''sleep totwrk age male hrwage\n",
    "3113   3438  32   1    7.07 \n",
    "2920   5020  31   1    1.43 \n",
    "2670   2815  44   1   20.53 \n",
    "3083   3786  30   0    9.62 \n",
    "3448   2580  64   1    2.75 \n",
    "4063   1205  41   1   19.25'''"
   ]
  },
  {
   "cell_type": "code",
   "execution_count": 6,
   "id": "8d7c3c07",
   "metadata": {},
   "outputs": [],
   "source": [
    "df = pd.read_csv(io.StringIO(check), sep='\\s+')"
   ]
  },
  {
   "cell_type": "code",
   "execution_count": 7,
   "id": "8b16ba96",
   "metadata": {},
   "outputs": [
    {
     "data": {
      "text/html": [
       "<div>\n",
       "<style scoped>\n",
       "    .dataframe tbody tr th:only-of-type {\n",
       "        vertical-align: middle;\n",
       "    }\n",
       "\n",
       "    .dataframe tbody tr th {\n",
       "        vertical-align: top;\n",
       "    }\n",
       "\n",
       "    .dataframe thead th {\n",
       "        text-align: right;\n",
       "    }\n",
       "</style>\n",
       "<table border=\"1\" class=\"dataframe\">\n",
       "  <thead>\n",
       "    <tr style=\"text-align: right;\">\n",
       "      <th></th>\n",
       "      <th>sleep</th>\n",
       "      <th>totwrk</th>\n",
       "      <th>age</th>\n",
       "      <th>male</th>\n",
       "      <th>hrwage</th>\n",
       "    </tr>\n",
       "  </thead>\n",
       "  <tbody>\n",
       "    <tr>\n",
       "      <th>0</th>\n",
       "      <td>3113</td>\n",
       "      <td>3438</td>\n",
       "      <td>32</td>\n",
       "      <td>1</td>\n",
       "      <td>7.07</td>\n",
       "    </tr>\n",
       "    <tr>\n",
       "      <th>1</th>\n",
       "      <td>2920</td>\n",
       "      <td>5020</td>\n",
       "      <td>31</td>\n",
       "      <td>1</td>\n",
       "      <td>1.43</td>\n",
       "    </tr>\n",
       "    <tr>\n",
       "      <th>2</th>\n",
       "      <td>2670</td>\n",
       "      <td>2815</td>\n",
       "      <td>44</td>\n",
       "      <td>1</td>\n",
       "      <td>20.53</td>\n",
       "    </tr>\n",
       "    <tr>\n",
       "      <th>3</th>\n",
       "      <td>3083</td>\n",
       "      <td>3786</td>\n",
       "      <td>30</td>\n",
       "      <td>0</td>\n",
       "      <td>9.62</td>\n",
       "    </tr>\n",
       "    <tr>\n",
       "      <th>4</th>\n",
       "      <td>3448</td>\n",
       "      <td>2580</td>\n",
       "      <td>64</td>\n",
       "      <td>1</td>\n",
       "      <td>2.75</td>\n",
       "    </tr>\n",
       "    <tr>\n",
       "      <th>5</th>\n",
       "      <td>4063</td>\n",
       "      <td>1205</td>\n",
       "      <td>41</td>\n",
       "      <td>1</td>\n",
       "      <td>19.25</td>\n",
       "    </tr>\n",
       "  </tbody>\n",
       "</table>\n",
       "</div>"
      ],
      "text/plain": [
       "   sleep  totwrk  age  male  hrwage\n",
       "0   3113    3438   32     1    7.07\n",
       "1   2920    5020   31     1    1.43\n",
       "2   2670    2815   44     1   20.53\n",
       "3   3083    3786   30     0    9.62\n",
       "4   3448    2580   64     1    2.75\n",
       "5   4063    1205   41     1   19.25"
      ]
     },
     "execution_count": 7,
     "metadata": {},
     "output_type": "execute_result"
    }
   ],
   "source": [
    "df"
   ]
  },
  {
   "cell_type": "code",
   "execution_count": 11,
   "id": "501dd873",
   "metadata": {},
   "outputs": [],
   "source": [
    "df['y_pred'] = 3525.14 + df['totwrk']*(-0.16) + df['age']*(1.62) + df['male']*(51.84) + np.log(df['hrwage'])*(-9.88) # создаём переменную y_predicted"
   ]
  },
  {
   "cell_type": "code",
   "execution_count": 12,
   "id": "ee73cc88",
   "metadata": {},
   "outputs": [
    {
     "data": {
      "text/html": [
       "<div>\n",
       "<style scoped>\n",
       "    .dataframe tbody tr th:only-of-type {\n",
       "        vertical-align: middle;\n",
       "    }\n",
       "\n",
       "    .dataframe tbody tr th {\n",
       "        vertical-align: top;\n",
       "    }\n",
       "\n",
       "    .dataframe thead th {\n",
       "        text-align: right;\n",
       "    }\n",
       "</style>\n",
       "<table border=\"1\" class=\"dataframe\">\n",
       "  <thead>\n",
       "    <tr style=\"text-align: right;\">\n",
       "      <th></th>\n",
       "      <th>sleep</th>\n",
       "      <th>totwrk</th>\n",
       "      <th>age</th>\n",
       "      <th>male</th>\n",
       "      <th>hrwage</th>\n",
       "      <th>y_pred</th>\n",
       "    </tr>\n",
       "  </thead>\n",
       "  <tbody>\n",
       "    <tr>\n",
       "      <th>0</th>\n",
       "      <td>3113</td>\n",
       "      <td>3438</td>\n",
       "      <td>32</td>\n",
       "      <td>1</td>\n",
       "      <td>7.07</td>\n",
       "      <td>3059.416098</td>\n",
       "    </tr>\n",
       "    <tr>\n",
       "      <th>1</th>\n",
       "      <td>2920</td>\n",
       "      <td>5020</td>\n",
       "      <td>31</td>\n",
       "      <td>1</td>\n",
       "      <td>1.43</td>\n",
       "      <td>2820.466176</td>\n",
       "    </tr>\n",
       "    <tr>\n",
       "      <th>2</th>\n",
       "      <td>2670</td>\n",
       "      <td>2815</td>\n",
       "      <td>44</td>\n",
       "      <td>1</td>\n",
       "      <td>20.53</td>\n",
       "      <td>3168.003754</td>\n",
       "    </tr>\n",
       "    <tr>\n",
       "      <th>3</th>\n",
       "      <td>3083</td>\n",
       "      <td>3786</td>\n",
       "      <td>30</td>\n",
       "      <td>0</td>\n",
       "      <td>9.62</td>\n",
       "      <td>2945.613219</td>\n",
       "    </tr>\n",
       "    <tr>\n",
       "      <th>4</th>\n",
       "      <td>3448</td>\n",
       "      <td>2580</td>\n",
       "      <td>64</td>\n",
       "      <td>1</td>\n",
       "      <td>2.75</td>\n",
       "      <td>3257.865383</td>\n",
       "    </tr>\n",
       "    <tr>\n",
       "      <th>5</th>\n",
       "      <td>4063</td>\n",
       "      <td>1205</td>\n",
       "      <td>41</td>\n",
       "      <td>1</td>\n",
       "      <td>19.25</td>\n",
       "      <td>3421.379791</td>\n",
       "    </tr>\n",
       "  </tbody>\n",
       "</table>\n",
       "</div>"
      ],
      "text/plain": [
       "   sleep  totwrk  age  male  hrwage       y_pred\n",
       "0   3113    3438   32     1    7.07  3059.416098\n",
       "1   2920    5020   31     1    1.43  2820.466176\n",
       "2   2670    2815   44     1   20.53  3168.003754\n",
       "3   3083    3786   30     0    9.62  2945.613219\n",
       "4   3448    2580   64     1    2.75  3257.865383\n",
       "5   4063    1205   41     1   19.25  3421.379791"
      ]
     },
     "execution_count": 12,
     "metadata": {},
     "output_type": "execute_result"
    }
   ],
   "source": [
    "df"
   ]
  },
  {
   "cell_type": "code",
   "execution_count": 13,
   "id": "78cc19c1",
   "metadata": {},
   "outputs": [],
   "source": [
    "df['residual'] = df['sleep'] - df['y_pred']"
   ]
  },
  {
   "cell_type": "code",
   "execution_count": 14,
   "id": "9de795e6",
   "metadata": {},
   "outputs": [
    {
     "data": {
      "text/html": [
       "<div>\n",
       "<style scoped>\n",
       "    .dataframe tbody tr th:only-of-type {\n",
       "        vertical-align: middle;\n",
       "    }\n",
       "\n",
       "    .dataframe tbody tr th {\n",
       "        vertical-align: top;\n",
       "    }\n",
       "\n",
       "    .dataframe thead th {\n",
       "        text-align: right;\n",
       "    }\n",
       "</style>\n",
       "<table border=\"1\" class=\"dataframe\">\n",
       "  <thead>\n",
       "    <tr style=\"text-align: right;\">\n",
       "      <th></th>\n",
       "      <th>sleep</th>\n",
       "      <th>totwrk</th>\n",
       "      <th>age</th>\n",
       "      <th>male</th>\n",
       "      <th>hrwage</th>\n",
       "      <th>y_pred</th>\n",
       "      <th>residual</th>\n",
       "    </tr>\n",
       "  </thead>\n",
       "  <tbody>\n",
       "    <tr>\n",
       "      <th>0</th>\n",
       "      <td>3113</td>\n",
       "      <td>3438</td>\n",
       "      <td>32</td>\n",
       "      <td>1</td>\n",
       "      <td>7.07</td>\n",
       "      <td>3059.416098</td>\n",
       "      <td>53.583902</td>\n",
       "    </tr>\n",
       "    <tr>\n",
       "      <th>1</th>\n",
       "      <td>2920</td>\n",
       "      <td>5020</td>\n",
       "      <td>31</td>\n",
       "      <td>1</td>\n",
       "      <td>1.43</td>\n",
       "      <td>2820.466176</td>\n",
       "      <td>99.533824</td>\n",
       "    </tr>\n",
       "    <tr>\n",
       "      <th>2</th>\n",
       "      <td>2670</td>\n",
       "      <td>2815</td>\n",
       "      <td>44</td>\n",
       "      <td>1</td>\n",
       "      <td>20.53</td>\n",
       "      <td>3168.003754</td>\n",
       "      <td>-498.003754</td>\n",
       "    </tr>\n",
       "    <tr>\n",
       "      <th>3</th>\n",
       "      <td>3083</td>\n",
       "      <td>3786</td>\n",
       "      <td>30</td>\n",
       "      <td>0</td>\n",
       "      <td>9.62</td>\n",
       "      <td>2945.613219</td>\n",
       "      <td>137.386781</td>\n",
       "    </tr>\n",
       "    <tr>\n",
       "      <th>4</th>\n",
       "      <td>3448</td>\n",
       "      <td>2580</td>\n",
       "      <td>64</td>\n",
       "      <td>1</td>\n",
       "      <td>2.75</td>\n",
       "      <td>3257.865383</td>\n",
       "      <td>190.134617</td>\n",
       "    </tr>\n",
       "    <tr>\n",
       "      <th>5</th>\n",
       "      <td>4063</td>\n",
       "      <td>1205</td>\n",
       "      <td>41</td>\n",
       "      <td>1</td>\n",
       "      <td>19.25</td>\n",
       "      <td>3421.379791</td>\n",
       "      <td>641.620209</td>\n",
       "    </tr>\n",
       "  </tbody>\n",
       "</table>\n",
       "</div>"
      ],
      "text/plain": [
       "   sleep  totwrk  age  male  hrwage       y_pred    residual\n",
       "0   3113    3438   32     1    7.07  3059.416098   53.583902\n",
       "1   2920    5020   31     1    1.43  2820.466176   99.533824\n",
       "2   2670    2815   44     1   20.53  3168.003754 -498.003754\n",
       "3   3083    3786   30     0    9.62  2945.613219  137.386781\n",
       "4   3448    2580   64     1    2.75  3257.865383  190.134617\n",
       "5   4063    1205   41     1   19.25  3421.379791  641.620209"
      ]
     },
     "execution_count": 14,
     "metadata": {},
     "output_type": "execute_result"
    }
   ],
   "source": [
    "df"
   ]
  },
  {
   "cell_type": "markdown",
   "id": "d2252281",
   "metadata": {},
   "source": [
    "## 1.1.2 Задача"
   ]
  },
  {
   "cell_type": "code",
   "execution_count": 51,
   "id": "b9de8652",
   "metadata": {},
   "outputs": [],
   "source": [
    "check_12 = '''output capital labour\n",
    "9.25    2.61    184  \n",
    "3.66    1.32     91  \n",
    "28.78   22.09   426  \n",
    "4.12    10.74    72  \n",
    "2.89    1.16     46'''"
   ]
  },
  {
   "cell_type": "code",
   "execution_count": 52,
   "id": "74e2be9e",
   "metadata": {},
   "outputs": [],
   "source": [
    "df = pd.read_csv(io.StringIO(check_12), sep='\\s+')"
   ]
  },
  {
   "cell_type": "code",
   "execution_count": 17,
   "id": "7a52afbf",
   "metadata": {},
   "outputs": [
    {
     "data": {
      "text/html": [
       "<div>\n",
       "<style scoped>\n",
       "    .dataframe tbody tr th:only-of-type {\n",
       "        vertical-align: middle;\n",
       "    }\n",
       "\n",
       "    .dataframe tbody tr th {\n",
       "        vertical-align: top;\n",
       "    }\n",
       "\n",
       "    .dataframe thead th {\n",
       "        text-align: right;\n",
       "    }\n",
       "</style>\n",
       "<table border=\"1\" class=\"dataframe\">\n",
       "  <thead>\n",
       "    <tr style=\"text-align: right;\">\n",
       "      <th></th>\n",
       "      <th>output</th>\n",
       "      <th>capital</th>\n",
       "      <th>labour</th>\n",
       "    </tr>\n",
       "  </thead>\n",
       "  <tbody>\n",
       "    <tr>\n",
       "      <th>0</th>\n",
       "      <td>9.25</td>\n",
       "      <td>2.61</td>\n",
       "      <td>184</td>\n",
       "    </tr>\n",
       "    <tr>\n",
       "      <th>1</th>\n",
       "      <td>3.66</td>\n",
       "      <td>1.32</td>\n",
       "      <td>91</td>\n",
       "    </tr>\n",
       "    <tr>\n",
       "      <th>2</th>\n",
       "      <td>28.78</td>\n",
       "      <td>22.09</td>\n",
       "      <td>426</td>\n",
       "    </tr>\n",
       "    <tr>\n",
       "      <th>3</th>\n",
       "      <td>4.12</td>\n",
       "      <td>10.74</td>\n",
       "      <td>72</td>\n",
       "    </tr>\n",
       "    <tr>\n",
       "      <th>4</th>\n",
       "      <td>2.89</td>\n",
       "      <td>1.16</td>\n",
       "      <td>46</td>\n",
       "    </tr>\n",
       "  </tbody>\n",
       "</table>\n",
       "</div>"
      ],
      "text/plain": [
       "   output  capital  labour\n",
       "0    9.25     2.61     184\n",
       "1    3.66     1.32      91\n",
       "2   28.78    22.09     426\n",
       "3    4.12    10.74      72\n",
       "4    2.89     1.16      46"
      ]
     },
     "execution_count": 17,
     "metadata": {},
     "output_type": "execute_result"
    }
   ],
   "source": [
    "df"
   ]
  },
  {
   "cell_type": "code",
   "execution_count": 19,
   "id": "abe9771d",
   "metadata": {},
   "outputs": [],
   "source": [
    "df['y_pred'] = -1.71 + 0.21*np.log(df['capital']) + 0.71*np.log(df['labour']) # создаём переменную y_predicted"
   ]
  },
  {
   "cell_type": "code",
   "execution_count": 20,
   "id": "09888be9",
   "metadata": {},
   "outputs": [
    {
     "data": {
      "text/html": [
       "<div>\n",
       "<style scoped>\n",
       "    .dataframe tbody tr th:only-of-type {\n",
       "        vertical-align: middle;\n",
       "    }\n",
       "\n",
       "    .dataframe tbody tr th {\n",
       "        vertical-align: top;\n",
       "    }\n",
       "\n",
       "    .dataframe thead th {\n",
       "        text-align: right;\n",
       "    }\n",
       "</style>\n",
       "<table border=\"1\" class=\"dataframe\">\n",
       "  <thead>\n",
       "    <tr style=\"text-align: right;\">\n",
       "      <th></th>\n",
       "      <th>output</th>\n",
       "      <th>capital</th>\n",
       "      <th>labour</th>\n",
       "      <th>y_pred</th>\n",
       "    </tr>\n",
       "  </thead>\n",
       "  <tbody>\n",
       "    <tr>\n",
       "      <th>0</th>\n",
       "      <td>9.25</td>\n",
       "      <td>2.61</td>\n",
       "      <td>184</td>\n",
       "      <td>2.194068</td>\n",
       "    </tr>\n",
       "    <tr>\n",
       "      <th>1</th>\n",
       "      <td>3.66</td>\n",
       "      <td>1.32</td>\n",
       "      <td>91</td>\n",
       "      <td>1.551013</td>\n",
       "    </tr>\n",
       "    <tr>\n",
       "      <th>2</th>\n",
       "      <td>28.78</td>\n",
       "      <td>22.09</td>\n",
       "      <td>426</td>\n",
       "      <td>3.238628</td>\n",
       "    </tr>\n",
       "    <tr>\n",
       "      <th>3</th>\n",
       "      <td>4.12</td>\n",
       "      <td>10.74</td>\n",
       "      <td>72</td>\n",
       "      <td>1.824968</td>\n",
       "    </tr>\n",
       "    <tr>\n",
       "      <th>4</th>\n",
       "      <td>2.89</td>\n",
       "      <td>1.16</td>\n",
       "      <td>46</td>\n",
       "      <td>1.039504</td>\n",
       "    </tr>\n",
       "  </tbody>\n",
       "</table>\n",
       "</div>"
      ],
      "text/plain": [
       "   output  capital  labour    y_pred\n",
       "0    9.25     2.61     184  2.194068\n",
       "1    3.66     1.32      91  1.551013\n",
       "2   28.78    22.09     426  3.238628\n",
       "3    4.12    10.74      72  1.824968\n",
       "4    2.89     1.16      46  1.039504"
      ]
     },
     "execution_count": 20,
     "metadata": {},
     "output_type": "execute_result"
    }
   ],
   "source": [
    "df"
   ]
  },
  {
   "cell_type": "code",
   "execution_count": 22,
   "id": "9673030d",
   "metadata": {},
   "outputs": [],
   "source": [
    "df['residual'] = np.log(df['output']) - df['y_pred']"
   ]
  },
  {
   "cell_type": "code",
   "execution_count": 23,
   "id": "bdab199b",
   "metadata": {},
   "outputs": [
    {
     "data": {
      "text/html": [
       "<div>\n",
       "<style scoped>\n",
       "    .dataframe tbody tr th:only-of-type {\n",
       "        vertical-align: middle;\n",
       "    }\n",
       "\n",
       "    .dataframe tbody tr th {\n",
       "        vertical-align: top;\n",
       "    }\n",
       "\n",
       "    .dataframe thead th {\n",
       "        text-align: right;\n",
       "    }\n",
       "</style>\n",
       "<table border=\"1\" class=\"dataframe\">\n",
       "  <thead>\n",
       "    <tr style=\"text-align: right;\">\n",
       "      <th></th>\n",
       "      <th>output</th>\n",
       "      <th>capital</th>\n",
       "      <th>labour</th>\n",
       "      <th>y_pred</th>\n",
       "      <th>residual</th>\n",
       "    </tr>\n",
       "  </thead>\n",
       "  <tbody>\n",
       "    <tr>\n",
       "      <th>0</th>\n",
       "      <td>9.25</td>\n",
       "      <td>2.61</td>\n",
       "      <td>184</td>\n",
       "      <td>2.19</td>\n",
       "      <td>0.03</td>\n",
       "    </tr>\n",
       "    <tr>\n",
       "      <th>1</th>\n",
       "      <td>3.66</td>\n",
       "      <td>1.32</td>\n",
       "      <td>91</td>\n",
       "      <td>1.55</td>\n",
       "      <td>-0.25</td>\n",
       "    </tr>\n",
       "    <tr>\n",
       "      <th>2</th>\n",
       "      <td>28.78</td>\n",
       "      <td>22.09</td>\n",
       "      <td>426</td>\n",
       "      <td>3.24</td>\n",
       "      <td>0.12</td>\n",
       "    </tr>\n",
       "    <tr>\n",
       "      <th>3</th>\n",
       "      <td>4.12</td>\n",
       "      <td>10.74</td>\n",
       "      <td>72</td>\n",
       "      <td>1.82</td>\n",
       "      <td>-0.41</td>\n",
       "    </tr>\n",
       "    <tr>\n",
       "      <th>4</th>\n",
       "      <td>2.89</td>\n",
       "      <td>1.16</td>\n",
       "      <td>46</td>\n",
       "      <td>1.04</td>\n",
       "      <td>0.02</td>\n",
       "    </tr>\n",
       "  </tbody>\n",
       "</table>\n",
       "</div>"
      ],
      "text/plain": [
       "   output  capital  labour  y_pred  residual\n",
       "0    9.25     2.61     184    2.19      0.03\n",
       "1    3.66     1.32      91    1.55     -0.25\n",
       "2   28.78    22.09     426    3.24      0.12\n",
       "3    4.12    10.74      72    1.82     -0.41\n",
       "4    2.89     1.16      46    1.04      0.02"
      ]
     },
     "execution_count": 23,
     "metadata": {},
     "output_type": "execute_result"
    }
   ],
   "source": [
    "df.round(2)"
   ]
  },
  {
   "cell_type": "markdown",
   "id": "2b0783f9",
   "metadata": {},
   "source": [
    "# 1.2 Суммы квадратов и R^2"
   ]
  },
  {
   "cell_type": "markdown",
   "id": "a0dadf09",
   "metadata": {},
   "source": [
    "## 1.2.1 Задача"
   ]
  },
  {
   "cell_type": "code",
   "execution_count": 26,
   "id": "0df3719f",
   "metadata": {},
   "outputs": [],
   "source": [
    "TSS = 100.35\n",
    "ESS = 47.56"
   ]
  },
  {
   "cell_type": "code",
   "execution_count": 44,
   "id": "89e5e84d",
   "metadata": {},
   "outputs": [
    {
     "data": {
      "text/plain": [
       "52.78999999999999"
      ]
     },
     "execution_count": 44,
     "metadata": {},
     "output_type": "execute_result"
    }
   ],
   "source": [
    "RSS = TSS - ESS\n",
    "RSS"
   ]
  },
  {
   "cell_type": "code",
   "execution_count": 46,
   "id": "36986d2e",
   "metadata": {},
   "outputs": [
    {
     "data": {
      "text/plain": [
       "0.47"
      ]
     },
     "execution_count": 46,
     "metadata": {},
     "output_type": "execute_result"
    }
   ],
   "source": [
    "R2=ESS/TSS\n",
    "round(R2,2)"
   ]
  },
  {
   "cell_type": "markdown",
   "id": "4eb4bc04",
   "metadata": {},
   "source": [
    "## 1.2.2 Задача"
   ]
  },
  {
   "cell_type": "markdown",
   "id": "36c73b08",
   "metadata": {},
   "source": [
    "## 1.2.3 Задача"
   ]
  },
  {
   "cell_type": "markdown",
   "id": "45e36558",
   "metadata": {},
   "source": [
    "# 2 R2adj"
   ]
  },
  {
   "cell_type": "markdown",
   "id": "09267ade",
   "metadata": {},
   "source": [
    "## 2.1 Задача"
   ]
  },
  {
   "cell_type": "markdown",
   "id": "1c9e853f",
   "metadata": {},
   "source": [
    "$$\n",
    "R^2_{adj}=1-(1-R^2)*\\frac{(n-1)}{(n-k)}\n",
    "$$"
   ]
  },
  {
   "cell_type": "code",
   "execution_count": 49,
   "id": "8adf4f51",
   "metadata": {},
   "outputs": [],
   "source": [
    "n=526\n",
    "k=5\n",
    "R2=0.288"
   ]
  },
  {
   "cell_type": "code",
   "execution_count": 50,
   "id": "ce14ae9a",
   "metadata": {},
   "outputs": [
    {
     "data": {
      "text/plain": [
       "0.28"
      ]
     },
     "execution_count": 50,
     "metadata": {},
     "output_type": "execute_result"
    }
   ],
   "source": [
    "R2adj=1-(1-R2)*(n-1)/(n-k)\n",
    "round(R2adj,2)"
   ]
  },
  {
   "cell_type": "markdown",
   "id": "f047e1f7",
   "metadata": {},
   "source": [
    "# 3. Суммы квадратов, остатки, предсказанные значения, R2 (Python)"
   ]
  },
  {
   "cell_type": "markdown",
   "id": "52f5e668",
   "metadata": {},
   "source": [
    "## 3.1 Sleep equation"
   ]
  },
  {
   "cell_type": "code",
   "execution_count": 53,
   "id": "42ad6f2f",
   "metadata": {},
   "outputs": [],
   "source": [
    "check_31 = '''i   Факт  Fitted  Остаток \n",
    "1   3113 3094.454  18.546 \n",
    "4   3083 2943.580 139.420 \n",
    "6   4063 3494.143 568.857 \n",
    "10  3018 3111.983 -93.983 \n",
    "508 3630 3476.914 153.086 \n",
    "700 2993 3295.398 -302.398'''"
   ]
  },
  {
   "cell_type": "code",
   "execution_count": 54,
   "id": "5eabe1a8",
   "metadata": {},
   "outputs": [],
   "source": [
    "df = pd.read_csv(io.StringIO(check_31), sep='\\s+')"
   ]
  },
  {
   "cell_type": "code",
   "execution_count": 55,
   "id": "038426b0",
   "metadata": {},
   "outputs": [
    {
     "data": {
      "text/html": [
       "<div>\n",
       "<style scoped>\n",
       "    .dataframe tbody tr th:only-of-type {\n",
       "        vertical-align: middle;\n",
       "    }\n",
       "\n",
       "    .dataframe tbody tr th {\n",
       "        vertical-align: top;\n",
       "    }\n",
       "\n",
       "    .dataframe thead th {\n",
       "        text-align: right;\n",
       "    }\n",
       "</style>\n",
       "<table border=\"1\" class=\"dataframe\">\n",
       "  <thead>\n",
       "    <tr style=\"text-align: right;\">\n",
       "      <th></th>\n",
       "      <th>i</th>\n",
       "      <th>Факт</th>\n",
       "      <th>Fitted</th>\n",
       "      <th>Остаток</th>\n",
       "    </tr>\n",
       "  </thead>\n",
       "  <tbody>\n",
       "    <tr>\n",
       "      <th>0</th>\n",
       "      <td>1</td>\n",
       "      <td>3113</td>\n",
       "      <td>3094.454</td>\n",
       "      <td>18.546</td>\n",
       "    </tr>\n",
       "    <tr>\n",
       "      <th>1</th>\n",
       "      <td>4</td>\n",
       "      <td>3083</td>\n",
       "      <td>2943.580</td>\n",
       "      <td>139.420</td>\n",
       "    </tr>\n",
       "    <tr>\n",
       "      <th>2</th>\n",
       "      <td>6</td>\n",
       "      <td>4063</td>\n",
       "      <td>3494.143</td>\n",
       "      <td>568.857</td>\n",
       "    </tr>\n",
       "    <tr>\n",
       "      <th>3</th>\n",
       "      <td>10</td>\n",
       "      <td>3018</td>\n",
       "      <td>3111.983</td>\n",
       "      <td>-93.983</td>\n",
       "    </tr>\n",
       "    <tr>\n",
       "      <th>4</th>\n",
       "      <td>508</td>\n",
       "      <td>3630</td>\n",
       "      <td>3476.914</td>\n",
       "      <td>153.086</td>\n",
       "    </tr>\n",
       "    <tr>\n",
       "      <th>5</th>\n",
       "      <td>700</td>\n",
       "      <td>2993</td>\n",
       "      <td>3295.398</td>\n",
       "      <td>-302.398</td>\n",
       "    </tr>\n",
       "  </tbody>\n",
       "</table>\n",
       "</div>"
      ],
      "text/plain": [
       "     i  Факт    Fitted  Остаток\n",
       "0    1  3113  3094.454   18.546\n",
       "1    4  3083  2943.580  139.420\n",
       "2    6  4063  3494.143  568.857\n",
       "3   10  3018  3111.983  -93.983\n",
       "4  508  3630  3476.914  153.086\n",
       "5  700  2993  3295.398 -302.398"
      ]
     },
     "execution_count": 55,
     "metadata": {},
     "output_type": "execute_result"
    }
   ],
   "source": [
    "df"
   ]
  },
  {
   "cell_type": "code",
   "execution_count": 56,
   "id": "8ce21493",
   "metadata": {},
   "outputs": [
    {
     "data": {
      "text/plain": [
       "0    3113\n",
       "1    3083\n",
       "2    4063\n",
       "3    3018\n",
       "4    3630\n",
       "5    2993\n",
       "Name: Факт, dtype: int64"
      ]
     },
     "execution_count": 56,
     "metadata": {},
     "output_type": "execute_result"
    }
   ],
   "source": [
    "df['Факт']"
   ]
  },
  {
   "cell_type": "code",
   "execution_count": 57,
   "id": "6873929d",
   "metadata": {},
   "outputs": [
    {
     "data": {
      "text/plain": [
       "3316.6666666666665"
      ]
     },
     "execution_count": 57,
     "metadata": {},
     "output_type": "execute_result"
    }
   ],
   "source": [
    "df['Факт'].mean()"
   ]
  },
  {
   "cell_type": "code",
   "execution_count": 59,
   "id": "688166e0",
   "metadata": {},
   "outputs": [
    {
     "data": {
      "text/plain": [
       "0   -203.666667\n",
       "1   -233.666667\n",
       "2    746.333333\n",
       "3   -298.666667\n",
       "4    313.333333\n",
       "5   -323.666667\n",
       "Name: Факт, dtype: float64"
      ]
     },
     "execution_count": 59,
     "metadata": {},
     "output_type": "execute_result"
    }
   ],
   "source": [
    "difference = df['Факт'] - df['Факт'].mean()\n",
    "difference"
   ]
  },
  {
   "cell_type": "code",
   "execution_count": 61,
   "id": "f8dc6b3f",
   "metadata": {},
   "outputs": [
    {
     "data": {
      "text/plain": [
       "945233.3333333334"
      ]
     },
     "execution_count": 61,
     "metadata": {},
     "output_type": "execute_result"
    }
   ],
   "source": [
    "TSS = np.sum(difference**2)\n",
    "TSS"
   ]
  },
  {
   "cell_type": "code",
   "execution_count": 62,
   "id": "b0e221ce",
   "metadata": {},
   "outputs": [
    {
     "data": {
      "text/plain": [
       "0   -222.212667\n",
       "1   -373.086667\n",
       "2    177.476333\n",
       "3   -204.683667\n",
       "4    160.247333\n",
       "5    -21.268667\n",
       "Name: Fitted, dtype: float64"
      ]
     },
     "execution_count": 62,
     "metadata": {},
     "output_type": "execute_result"
    }
   ],
   "source": [
    "difference = df['Fitted'] - df['Факт'].mean()\n",
    "difference"
   ]
  },
  {
   "cell_type": "code",
   "execution_count": 63,
   "id": "5cbefb0d",
   "metadata": {},
   "outputs": [
    {
     "data": {
      "text/plain": [
       "288096.9463873332"
      ]
     },
     "execution_count": 63,
     "metadata": {},
     "output_type": "execute_result"
    }
   ],
   "source": [
    "ESS = np.sum(difference**2)\n",
    "ESS"
   ]
  },
  {
   "cell_type": "code",
   "execution_count": 64,
   "id": "c280653f",
   "metadata": {},
   "outputs": [
    {
     "data": {
      "text/plain": [
       "0    -18.546\n",
       "1   -139.420\n",
       "2   -568.857\n",
       "3     93.983\n",
       "4   -153.086\n",
       "5    302.398\n",
       "dtype: float64"
      ]
     },
     "execution_count": 64,
     "metadata": {},
     "output_type": "execute_result"
    }
   ],
   "source": [
    "difference = df['Fitted'] - df['Факт']\n",
    "difference"
   ]
  },
  {
   "cell_type": "code",
   "execution_count": 74,
   "id": "96dcdcb9",
   "metadata": {},
   "outputs": [
    {
     "data": {
      "text/plain": [
       "467092.85505400004"
      ]
     },
     "execution_count": 74,
     "metadata": {},
     "output_type": "execute_result"
    }
   ],
   "source": [
    "RSS = np.sum(difference**2)\n",
    "RSS"
   ]
  },
  {
   "cell_type": "code",
   "execution_count": 75,
   "id": "9e0fad09",
   "metadata": {},
   "outputs": [
    {
     "data": {
      "text/plain": [
       "657136.3869460002"
      ]
     },
     "execution_count": 75,
     "metadata": {},
     "output_type": "execute_result"
    }
   ],
   "source": [
    "RSS = TSS - ESS\n",
    "RSS"
   ]
  },
  {
   "cell_type": "code",
   "execution_count": 76,
   "id": "7182dadc",
   "metadata": {},
   "outputs": [
    {
     "data": {
      "text/plain": [
       "0.30478923692985843"
      ]
     },
     "execution_count": 76,
     "metadata": {},
     "output_type": "execute_result"
    }
   ],
   "source": [
    "R2 = ESS/TSS\n",
    "R2"
   ]
  },
  {
   "cell_type": "markdown",
   "id": "59eba302",
   "metadata": {},
   "source": [
    "$$\n",
    "SER = \\sqrt{RSS}\n",
    "$$"
   ]
  },
  {
   "cell_type": "code",
   "execution_count": null,
   "id": "0173e86d",
   "metadata": {},
   "outputs": [],
   "source": []
  }
 ],
 "metadata": {
  "kernelspec": {
   "display_name": "Python 3 (ipykernel)",
   "language": "python",
   "name": "python3"
  },
  "language_info": {
   "codemirror_mode": {
    "name": "ipython",
    "version": 3
   },
   "file_extension": ".py",
   "mimetype": "text/x-python",
   "name": "python",
   "nbconvert_exporter": "python",
   "pygments_lexer": "ipython3",
   "version": "3.9.16"
  }
 },
 "nbformat": 4,
 "nbformat_minor": 5
}
